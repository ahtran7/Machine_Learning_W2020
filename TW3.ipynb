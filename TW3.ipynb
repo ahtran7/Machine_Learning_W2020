{
 "cells": [
  {
   "cell_type": "markdown",
   "metadata": {},
   "source": [
    "### TW3: Exploratory Data Analysis on COVID-19 Datasets\n",
    "\n",
    "\n",
    "### Learning the data using visualization and simple linear regression\n",
    "\n",
    "1. First, run the example and understand the ML process and be familir with Python package functions for simple linear regression. \n",
    "\n",
    "2. Apply exploratory data analysis and simple regression on COVID-19 dataset(s). "
   ]
  },
  {
   "cell_type": "markdown",
   "metadata": {},
   "source": [
    "#### Write your name\n",
    "\n",
    "- Pedro Voto\n",
    "- Anh Tran\n"
   ]
  },
  {
   "cell_type": "markdown",
   "metadata": {},
   "source": [
    "###  Simple Linear Regression example\n",
    "\n",
    "Follow the code and observe the results"
   ]
  },
  {
   "cell_type": "code",
   "execution_count": 98,
   "metadata": {},
   "outputs": [],
   "source": [
    "# Python ≥3.5 is required\n",
    "import sys\n",
    "assert sys.version_info >= (3, 5)"
   ]
  },
  {
   "cell_type": "code",
   "execution_count": 99,
   "metadata": {},
   "outputs": [],
   "source": [
    "# Scikit-Learn ≥0.20 is required\n",
    "import sklearn\n",
    "assert sklearn.__version__ >= \"0.20\""
   ]
  },
  {
   "cell_type": "markdown",
   "metadata": {},
   "source": [
    "This function just merges the OECD's life satisfaction data and the IMF's GDP per capita data. It's a bit too long and boring and it's not specific to Machine Learning, which is why I left it out of the book."
   ]
  },
  {
   "cell_type": "markdown",
   "metadata": {},
   "source": [
    "### Data Preparation"
   ]
  },
  {
   "cell_type": "markdown",
   "metadata": {},
   "source": [
    "The code expects the data files to be located in the current directory. Fetch the files in datasets/lifesat."
   ]
  },
  {
   "cell_type": "code",
   "execution_count": 100,
   "metadata": {},
   "outputs": [],
   "source": [
    "import os\n",
    "datapath = os.path.join(\"datasets\", \"lifesat\", \"\")"
   ]
  },
  {
   "cell_type": "code",
   "execution_count": 101,
   "metadata": {},
   "outputs": [],
   "source": [
    "# To plot pretty figures directly within Jupyter\n",
    "%matplotlib inline\n",
    "import matplotlib as mpl\n",
    "\n",
    "mpl.rc('axes', labelsize=14)\n",
    "mpl.rc('xtick', labelsize=12)\n",
    "mpl.rc('ytick', labelsize=12)"
   ]
  },
  {
   "cell_type": "code",
   "execution_count": 102,
   "metadata": {},
   "outputs": [
    {
     "name": "stdout",
     "output_type": "stream",
     "text": [
      "Downloading oecd_bli_2015.csv\n",
      "Downloading gdp_per_capita.csv\n"
     ]
    }
   ],
   "source": [
    "# Download the data\n",
    "import urllib\n",
    "DOWNLOAD_ROOT = \"https://raw.githubusercontent.com/ageron/handson-ml2/master/\"\n",
    "os.makedirs(datapath, exist_ok=True)\n",
    "\n",
    "for filename in (\"oecd_bli_2015.csv\", \"gdp_per_capita.csv\"):\n",
    "    print(\"Downloading\", filename)\n",
    "    url = DOWNLOAD_ROOT + \"datasets/lifesat/\" + filename\n",
    "    urllib.request.urlretrieve(url, datapath + filename)"
   ]
  },
  {
   "cell_type": "markdown",
   "metadata": {},
   "source": [
    "#### Load the data into a DataFrame"
   ]
  },
  {
   "cell_type": "code",
   "execution_count": 103,
   "metadata": {},
   "outputs": [],
   "source": [
    "# Code example of load the data and prepared the data\n",
    "import matplotlib.pyplot as plt\n",
    "import numpy as np\n",
    "import pandas as pd\n",
    "import sklearn.linear_model\n",
    "\n",
    "# Load the data\n",
    "oecd_bli = pd.read_csv(datapath + \"oecd_bli_2015.csv\", thousands=',')\n",
    "gdp_per_capita = pd.read_csv(datapath + \"gdp_per_capita.csv\",thousands=',',delimiter='\\t',\n",
    "                             encoding='latin1', na_values=\"n/a\")"
   ]
  },
  {
   "cell_type": "markdown",
   "metadata": {},
   "source": [
    "#### Select the data and visualize it"
   ]
  },
  {
   "cell_type": "code",
   "execution_count": 104,
   "metadata": {},
   "outputs": [],
   "source": [
    "def prepare_country_stats(oecd_bli, gdp_per_capita):\n",
    "    oecd_bli = oecd_bli[oecd_bli[\"INEQUALITY\"]==\"TOT\"]\n",
    "    oecd_bli = oecd_bli.pivot(index=\"Country\", columns=\"Indicator\", values=\"Value\")\n",
    "    gdp_per_capita.rename(columns={\"2015\": \"GDP per capita\"}, inplace=True)\n",
    "    gdp_per_capita.set_index(\"Country\", inplace=True)\n",
    "    \n",
    "    full_country_stats = pd.merge(left=oecd_bli, right=gdp_per_capita,\n",
    "                                  left_index=True, right_index=True)\n",
    "    \n",
    "    full_country_stats.sort_values(by=\"GDP per capita\", inplace=True)\n",
    "    remove_indices = [0, 1, 6, 8, 33, 34, 35]\n",
    "    keep_indices = list(set(range(36)) - set(remove_indices))\n",
    "    \n",
    "    return full_country_stats[['GDP per capita', 'Life satisfaction']].iloc[keep_indices]"
   ]
  },
  {
   "cell_type": "code",
   "execution_count": 105,
   "metadata": {},
   "outputs": [
    {
     "data": {
      "image/png": "[encoded data removed]",
      "text/plain": [
       "<Figure size 432x288 with 1 Axes>"
      ]
     },
     "metadata": {
      "needs_background": "light"
     },
     "output_type": "display_data"
    }
   ],
   "source": [
    "# Prepare the data\n",
    "country_stats = prepare_country_stats(oecd_bli, gdp_per_capita)\n",
    "\n",
    "X = np.c_[country_stats['GDP per capita']]\n",
    "y = np.c_[country_stats['Life satisfaction']]\n",
    "\n",
    "# Visualize the data\n",
    "country_stats.plot(kind='scatter', x=\"GDP per capita\", y='Life satisfaction')\n",
    "plt.show()"
   ]
  },
  {
   "cell_type": "code",
   "execution_count": 106,
   "metadata": {},
   "outputs": [
    {
     "data": {
      "text/plain": [
       "(29, 1)"
      ]
     },
     "execution_count": 106,
     "metadata": {},
     "output_type": "execute_result"
    }
   ],
   "source": [
    "X.shape"
   ]
  },
  {
   "cell_type": "code",
   "execution_count": 107,
   "metadata": {},
   "outputs": [
    {
     "data": {
      "text/plain": [
       "(29, 1)"
      ]
     },
     "execution_count": 107,
     "metadata": {},
     "output_type": "execute_result"
    }
   ],
   "source": [
    "y.shape"
   ]
  },
  {
   "cell_type": "markdown",
   "metadata": {},
   "source": [
    "### Build a simple regression model"
   ]
  },
  {
   "cell_type": "markdown",
   "metadata": {},
   "source": [
    "\n",
    "#### Create a simple linear regression \n",
    "\n",
    "https://scikit-learn.org/stable/modules/generated/sklearn.linear_model.LinearRegression.html"
   ]
  },
  {
   "cell_type": "code",
   "execution_count": 108,
   "metadata": {},
   "outputs": [
    {
     "data": {
      "text/plain": [
       "LinearRegression()"
      ]
     },
     "execution_count": 108,
     "metadata": {},
     "output_type": "execute_result"
    }
   ],
   "source": [
    "# import model\n",
    "from sklearn.linear_model import LinearRegression\n",
    "\n",
    "# Create a simple linear regression model\n",
    "model = LinearRegression()\n",
    "\n",
    "# Train the model (we use all data for training --> Later we will divide the data into training data and testing data)\n",
    "model.fit(X,y)\n"
   ]
  },
  {
   "cell_type": "code",
   "execution_count": 109,
   "metadata": {},
   "outputs": [
    {
     "name": "stdout",
     "output_type": "stream",
     "text": [
      "[[4.91154459e-05]]\n",
      "[4.8530528]\n"
     ]
    }
   ],
   "source": [
    "print(model.coef_)\n",
    "print(model.intercept_)"
   ]
  },
  {
   "cell_type": "markdown",
   "metadata": {},
   "source": [
    "#### Predict y for a new X value"
   ]
  },
  {
   "cell_type": "code",
   "execution_count": 110,
   "metadata": {},
   "outputs": [
    {
     "data": {
      "text/plain": [
       "array([[5.96242338]])"
      ]
     },
     "execution_count": 110,
     "metadata": {},
     "output_type": "execute_result"
    }
   ],
   "source": [
    "# Make a prediction for Cyprus \n",
    "# new data value 22587 for Cyprus's GDP per capita\n",
    "X_new = [[22587]]\n",
    "y_predict = model.predict(X_new)\n",
    "y_predict\n"
   ]
  },
  {
   "cell_type": "markdown",
   "metadata": {},
   "source": [
    "#### Plot a scatter graph together with the regression function"
   ]
  },
  {
   "cell_type": "code",
   "execution_count": 111,
   "metadata": {},
   "outputs": [
    {
     "data": {
      "image/png": "[encoded data removed]",
      "text/plain": [
       "<Figure size 432x288 with 1 Axes>"
      ]
     },
     "metadata": {
      "needs_background": "light"
     },
     "output_type": "display_data"
    }
   ],
   "source": [
    "# Plot scatterplot \n",
    "plt.scatter(X, y, c='red', label='observed')\n",
    "plt.legend(loc='best')\n",
    "\n",
    "plt.xlabel('GDP per capita')\n",
    "plt.ylabel('Life satisfaction')\n",
    "plt.title('Regression')\n",
    "\n",
    "# plot the regression function\n",
    "plt.plot(X,model.predict(X), c='green', label='fitted', linewidth=2)\n",
    "\n",
    "plt.show()"
   ]
  },
  {
   "cell_type": "markdown",
   "metadata": {},
   "source": [
    "## Model evaluation metrics for regression models\n",
    "\n",
    "Evaluation metrics for classification problems, such as **accuracy**, are not useful for regression problems. Instead, we need evaluation metrics designed for comparing continuous values.\n",
    "\n",
    "Let's create some example numeric predictions, and calculate **three common evaluation metrics** for regression problems:\n",
    "\n",
    "See more details: https://scikit-learn.org/stable/modules/model_evaluation.html"
   ]
  },
  {
   "cell_type": "markdown",
   "metadata": {},
   "source": [
    "**Mean Absolute Error** (MAE) is the mean of the absolute value of the errors:\n",
    "\n",
    "$$\\frac 1n\\sum_{i=1}^n|y_i-\\hat{y}_i|$$"
   ]
  },
  {
   "cell_type": "markdown",
   "metadata": {},
   "source": [
    "**Mean Squared Error** (MSE) is the mean of the squared errors:\n",
    "\n",
    "$$\\frac 1n\\sum_{i=1}^n(y_i-\\hat{y}_i)^2$$"
   ]
  },
  {
   "cell_type": "markdown",
   "metadata": {},
   "source": [
    "**Root Mean Squared Error** (RMSE) is the square root of the mean of the squared errors:\n",
    "\n",
    "$$\\sqrt{\\frac 1n\\sum_{i=1}^n(y_i-\\hat{y}_i)^2}$$"
   ]
  },
  {
   "cell_type": "markdown",
   "metadata": {},
   "source": [
    "Comparing these metrics:\n",
    "\n",
    "- **MAE** is the easiest to understand, because it's the average error.\n",
    "- **MSE** is more popular than MAE, because MSE \"punishes\" larger errors.\n",
    "- **RMSE** is even more popular than MSE, because RMSE is interpretable in the \"y\" units.\n",
    "\n",
    "## The R2 (\"r-squared\") Regression Score\n",
    "\n",
    "- Measures how well a prediction model for regression fits the given data.\n",
    "\n",
    "- The score is between 0 and 1:\n",
    "\n",
    "     - A value of 0 corresponds to a constant model that predicts the mean value of all training target values.\n",
    "\n",
    "     - A value of 1 corresponds to perfect prediction\n",
    "\n",
    "- Also known as \"coefficient of determination\""
   ]
  },
  {
   "cell_type": "markdown",
   "metadata": {},
   "source": [
    "### Model Evaluation Example"
   ]
  },
  {
   "cell_type": "markdown",
   "metadata": {},
   "source": [
    "#### 1. Preparing X and y using pandas\n",
    "- We already did this process above\n",
    "- scikit-learn expects X (feature matrix) and y (response vector) to be NumPy arrays.\n",
    "- However, pandas is built on top of NumPy.\n",
    "- Thus, X can be a pandas DataFrame and y can be a pandas Series!\n",
    "\n",
    "See more details about Pandas Series and Numpy\n",
    "\n",
    "- https://pandas.pydata.org/pandas-docs/stable/reference/api/pandas.Series.html"
   ]
  },
  {
   "cell_type": "markdown",
   "metadata": {},
   "source": [
    "#### 2. Splitting X and y into training and testing sets\n",
    "\n",
    "We are using the same data that is stored X, y above. "
   ]
  },
  {
   "cell_type": "code",
   "execution_count": 112,
   "metadata": {},
   "outputs": [],
   "source": [
    "from sklearn.model_selection import train_test_split\n",
    "\n",
    "# split the data into training and testing (test data size 30%)\n",
    "X_train, X_test, y_train, y_test = train_test_split(X,y,\n",
    "                                        test_size=0.3, random_state=1)\n"
   ]
  },
  {
   "cell_type": "markdown",
   "metadata": {},
   "source": [
    "#### 3. Linear regression in scikit-learn"
   ]
  },
  {
   "cell_type": "code",
   "execution_count": 113,
   "metadata": {},
   "outputs": [
    {
     "data": {
      "text/plain": [
       "LinearRegression()"
      ]
     },
     "execution_count": 113,
     "metadata": {},
     "output_type": "execute_result"
    }
   ],
   "source": [
    "# import model\n",
    "from sklearn.linear_model import LinearRegression\n",
    "\n",
    "# instantiate a simple linear regression model \n",
    "linreg = LinearRegression()\n",
    "\n",
    "\n",
    "# fit the model to the training data (learn the coefficients)\n",
    "linreg.fit(X_train, y_train)"
   ]
  },
  {
   "cell_type": "markdown",
   "metadata": {},
   "source": [
    "#### 4. Making predictions for testing data\n",
    "\n",
    "Use X_test"
   ]
  },
  {
   "cell_type": "code",
   "execution_count": 114,
   "metadata": {},
   "outputs": [
    {
     "data": {
      "text/plain": [
       "array([[6.59031623],\n",
       "       [6.90629497],\n",
       "       [6.82350342],\n",
       "       [6.90057464],\n",
       "       [7.24870458],\n",
       "       [6.88774681],\n",
       "       [5.42891846],\n",
       "       [6.12434396],\n",
       "       [7.19687366]])"
      ]
     },
     "execution_count": 114,
     "metadata": {},
     "output_type": "execute_result"
    }
   ],
   "source": [
    "# make predictions on the testing set\n",
    "y_pred = linreg.predict(X_test)\n",
    "y_pred"
   ]
  },
  {
   "cell_type": "code",
   "execution_count": 115,
   "metadata": {},
   "outputs": [
    {
     "name": "stdout",
     "output_type": "stream",
     "text": [
      "0.7119005755709598\n"
     ]
    }
   ],
   "source": [
    "print(linreg.score(X_train, y_train)) #training accuracy"
   ]
  },
  {
   "cell_type": "code",
   "execution_count": 116,
   "metadata": {},
   "outputs": [
    {
     "name": "stdout",
     "output_type": "stream",
     "text": [
      "0.5844350680603303\n"
     ]
    }
   ],
   "source": [
    "print(linreg.score(X_test, y_test))"
   ]
  },
  {
   "cell_type": "markdown",
   "metadata": {},
   "source": [
    "#### 5. Computing the RMSE \n",
    "\n",
    "https://scikit-learn.org/stable/modules/model_evaluation.html"
   ]
  },
  {
   "cell_type": "code",
   "execution_count": 117,
   "metadata": {},
   "outputs": [
    {
     "data": {
      "text/plain": [
       "0.39596209321120795"
      ]
     },
     "execution_count": 117,
     "metadata": {},
     "output_type": "execute_result"
    }
   ],
   "source": [
    "from sklearn import metrics\n",
    "\n",
    "rmse = np.sqrt(metrics.mean_squared_error(y_test, y_pred))\n",
    "rmse"
   ]
  },
  {
   "cell_type": "markdown",
   "metadata": {},
   "source": [
    "#### 6. K Cross Validation and Learning Curve"
   ]
  },
  {
   "cell_type": "code",
   "execution_count": 118,
   "metadata": {},
   "outputs": [
    {
     "name": "stdout",
     "output_type": "stream",
     "text": [
      "KFold(n_splits=3, random_state=None, shuffle=True)\n"
     ]
    }
   ],
   "source": [
    "from sklearn.model_selection import KFold # import k-fold validation\n",
    "\n",
    "kf = KFold(n_splits=3, random_state=None, shuffle=True) # Define the split - into 3 folds \n",
    "\n",
    "kf.get_n_splits(X) # returns the number of splitting iterations in the cross-validator\n",
    "\n",
    "print(kf) "
   ]
  },
  {
   "cell_type": "markdown",
   "metadata": {},
   "source": [
    "##### Setting up a testbed using KFold "
   ]
  },
  {
   "cell_type": "code",
   "execution_count": 119,
   "metadata": {},
   "outputs": [
    {
     "name": "stdout",
     "output_type": "stream",
     "text": [
      "[0.42493607053444665, 0.596386725093759, 0.4537473687352488]\n",
      "[0.7500406090237318, 0.2591603293729249, 0.745780173088916]\n"
     ]
    }
   ],
   "source": [
    "# Let's create a new simple linear regressor\n",
    "linreg = LinearRegression()\n",
    "\n",
    "# Conduct 3-fold cross validation\n",
    "\n",
    "rmse = []\n",
    "r2 = []\n",
    "\n",
    "for train_index, test_index in kf.split(X):\n",
    "    \n",
    "    X_train, X_test = X[train_index], X[test_index]\n",
    "    y_train, y_test = y[train_index], y[test_index]\n",
    "    \n",
    "    linreg.fit(X_train, y_train)\n",
    "    y_pred = linreg.predict(X_test)\n",
    "\n",
    "    rmse.append(np.sqrt(metrics.mean_squared_error(y_test,y_pred)))\n",
    "    r2.append(metrics.r2_score(y_test,y_pred))\n",
    "    \n",
    "print(rmse)\n",
    "print(r2)"
   ]
  },
  {
   "cell_type": "markdown",
   "metadata": {},
   "source": [
    "#### Learning Curve\n",
    "\n",
    "Check the details for learning curve\n",
    "\n",
    "https://scikit-learn.org/stable/modules/generated/sklearn.model_selection.learning_curve.html"
   ]
  },
  {
   "cell_type": "code",
   "execution_count": 120,
   "metadata": {},
   "outputs": [
    {
     "name": "stdout",
     "output_type": "stream",
     "text": [
      "[[0.06475715 0.21179511 0.14921954]\n",
      " [0.1489335  0.26666277 0.27094265]\n",
      " [0.40619768 0.31144753 0.41256528]\n",
      " [0.40651757 0.38547114 0.48480072]\n",
      " [0.36477439 0.43261206 0.46251288]]\n",
      "[[2.2586879  0.66960775 0.61913827]\n",
      " [1.98536045 0.61266213 0.86457236]\n",
      " [0.84063403 0.52238852 0.67449714]\n",
      " [0.57476375 0.48477446 0.41300717]\n",
      " [0.57641632 0.49457006 0.47076509]]\n"
     ]
    },
    {
     "data": {
      "image/png": "[encoded data removed]",
      "text/plain": [
       "<Figure size 360x216 with 1 Axes>"
      ]
     },
     "metadata": {
      "needs_background": "light"
     },
     "output_type": "display_data"
    }
   ],
   "source": [
    "from sklearn.model_selection import learning_curve\n",
    "    \n",
    "# evaluate the training and testing and retrieve the information of model performance. \n",
    "\n",
    "train_sizes = np.linspace(0.2,0.8,5)\n",
    "\n",
    "train_sizes, train_mse, test_mse = learning_curve(linreg, X, y, train_sizes = train_sizes, \n",
    "                                scoring='neg_mean_squared_error',cv=3, shuffle = True)\n",
    "\n",
    "train_scores = np.sqrt(np.abs(train_mse))\n",
    "test_scores = np.sqrt(np.abs(test_mse))\n",
    "\n",
    "print(train_scores)\n",
    "print(test_scores)\n",
    "\n",
    "train_scores_mean = np.mean(train_scores, axis=1)\n",
    "test_scores_mean = np.mean(test_scores, axis=1)\n",
    "\n",
    "# Plot learning curve\n",
    "fig, ax = plt.subplots(1, 1, figsize=(5, 3))\n",
    "    \n",
    "ax.set_title('A learning curve for a simple linear regression')\n",
    "ax.set_xlabel(\"Training examples\")\n",
    "ax.set_ylabel(\"Score (RMSE)\")\n",
    "ax.grid()\n",
    "\n",
    "ax.plot(train_sizes, train_scores_mean, 'o-', color=\"r\", label=\"Training score\")\n",
    "ax.plot(train_sizes, test_scores_mean, 'o-', color=\"g\", label=\"Cross-validation score\")\n",
    "ax.legend(loc=\"best\")\n",
    "\n",
    "plt.show()"
   ]
  },
  {
   "cell_type": "markdown",
   "metadata": {},
   "source": [
    "### Teamwork\n",
    "\n",
    "\n",
    "###  Part 1: Explore insight of the data using other visualization tools\n",
    "\n",
    "The following Git repository is for the COVID-19 visual dashboard operated by the Johns Hopkins University Center for Systems Science and Engineering:\n",
    "https://github.com/CSSEGISandData/COVID-19\n",
    "\n",
    "Read the information on the dashboard and check the datasets details\n",
    "\n",
    "Datasets are located in a folder: csse_covid_19_data"
   ]
  },
  {
   "cell_type": "markdown",
   "metadata": {},
   "source": [
    "### Tasks\n",
    "\n",
    "1. Select attributes (columns) you are interested (either US only or all data).\n",
    "\n",
    "   1.1 (optional) If you find any missing data or/and invalid data in the selected attributes you would like to work on, apply tools to handle these data. \n",
    "\n",
    "2. Conduct exploratory data analysis on the selected data and visualize the data. This may include the following but not limited:\n",
    "\n",
    "(a) The mean, median and standard deviation\n",
    "\n",
    "(b) Draw boxplots\n",
    "\n",
    "(c) Draw histograms\n",
    "\n",
    "(d) Draw a scatter plot of the data\n",
    "\n",
    "(e) Display simple linear regression function with a scatter plot\n",
    "    --> You will see the data does not follow a simple linear function. \n",
    "   \n",
    "(f) Create a logistic regression function instead of a simple linear regression. See the web resources below:\n",
    "\n",
    "    from sklearn.linear_model import LogisticRegression\n",
    "    \n",
    "This time draw a scatter plot of the data together with the logistic regression function. "
   ]
  },
  {
   "cell_type": "code",
   "execution_count": 121,
   "metadata": {},
   "outputs": [],
   "source": [
    "import pandas as pd\n",
    "import glob\n",
    "path = r'C:\\Users\\pedro\\Desktop\\COVID-19-master\\csse_covid_19_data\\csse_covid_19_daily_reports_us' # use your path\n",
    "all_files = glob.glob(path + \"/*.csv\")\n",
    "li = []\n",
    "for filename in all_files:\n",
    "    df = pd.read_csv(filename, index_col=None, header=0)\n",
    "    li.append(df)\n",
    "frame = pd.concat(li, axis=0, ignore_index=True)"
   ]
  },
  {
   "cell_type": "code",
   "execution_count": 122,
   "metadata": {},
   "outputs": [
    {
     "data": {
      "text/html": [
       "<div>\n",
       "<style scoped>\n",
       "    .dataframe tbody tr th:only-of-type {\n",
       "        vertical-align: middle;\n",
       "    }\n",
       "\n",
       "    .dataframe tbody tr th {\n",
       "        vertical-align: top;\n",
       "    }\n",
       "\n",
       "    .dataframe thead th {\n",
       "        text-align: right;\n",
       "    }\n",
       "</style>\n",
       "<table border=\"1\" class=\"dataframe\">\n",
       "  <thead>\n",
       "    <tr style=\"text-align: right;\">\n",
       "      <th></th>\n",
       "      <th>Country_Region</th>\n",
       "      <th>Last_Update</th>\n",
       "      <th>Lat</th>\n",
       "      <th>Long_</th>\n",
       "      <th>Confirmed</th>\n",
       "      <th>Deaths</th>\n",
       "      <th>Recovered</th>\n",
       "      <th>Active</th>\n",
       "      <th>FIPS</th>\n",
       "      <th>Incident_Rate</th>\n",
       "      <th>Total_Test_Results</th>\n",
       "      <th>People_Hospitalized</th>\n",
       "      <th>Case_Fatality_Ratio</th>\n",
       "      <th>UID</th>\n",
       "      <th>ISO3</th>\n",
       "      <th>Testing_Rate</th>\n",
       "      <th>Hospitalization_Rate</th>\n",
       "      <th>People_Tested</th>\n",
       "      <th>Mortality_Rate</th>\n",
       "    </tr>\n",
       "    <tr>\n",
       "      <th>Province_State</th>\n",
       "      <th></th>\n",
       "      <th></th>\n",
       "      <th></th>\n",
       "      <th></th>\n",
       "      <th></th>\n",
       "      <th></th>\n",
       "      <th></th>\n",
       "      <th></th>\n",
       "      <th></th>\n",
       "      <th></th>\n",
       "      <th></th>\n",
       "      <th></th>\n",
       "      <th></th>\n",
       "      <th></th>\n",
       "      <th></th>\n",
       "      <th></th>\n",
       "      <th></th>\n",
       "      <th></th>\n",
       "      <th></th>\n",
       "    </tr>\n",
       "  </thead>\n",
       "  <tbody>\n",
       "    <tr>\n",
       "      <th>Alabama</th>\n",
       "      <td>US</td>\n",
       "      <td>2021-01-02 05:30:44</td>\n",
       "      <td>32.3182</td>\n",
       "      <td>-86.9023</td>\n",
       "      <td>365747</td>\n",
       "      <td>4872</td>\n",
       "      <td>202137.0</td>\n",
       "      <td>158738.0</td>\n",
       "      <td>1.0</td>\n",
       "      <td>7459.375895</td>\n",
       "      <td>1885216.0</td>\n",
       "      <td>NaN</td>\n",
       "      <td>1.332068</td>\n",
       "      <td>84000001.0</td>\n",
       "      <td>USA</td>\n",
       "      <td>38448.804196</td>\n",
       "      <td>NaN</td>\n",
       "      <td>NaN</td>\n",
       "      <td>NaN</td>\n",
       "    </tr>\n",
       "    <tr>\n",
       "      <th>Alaska</th>\n",
       "      <td>US</td>\n",
       "      <td>2021-01-02 05:30:44</td>\n",
       "      <td>61.3707</td>\n",
       "      <td>-152.4044</td>\n",
       "      <td>46986</td>\n",
       "      <td>206</td>\n",
       "      <td>7165.0</td>\n",
       "      <td>39615.0</td>\n",
       "      <td>2.0</td>\n",
       "      <td>6422.844801</td>\n",
       "      <td>1275750.0</td>\n",
       "      <td>NaN</td>\n",
       "      <td>0.438428</td>\n",
       "      <td>84000002.0</td>\n",
       "      <td>USA</td>\n",
       "      <td>174391.185778</td>\n",
       "      <td>NaN</td>\n",
       "      <td>NaN</td>\n",
       "      <td>NaN</td>\n",
       "    </tr>\n",
       "    <tr>\n",
       "      <th>American Samoa</th>\n",
       "      <td>US</td>\n",
       "      <td>2021-01-02 05:30:44</td>\n",
       "      <td>-14.2710</td>\n",
       "      <td>-170.1320</td>\n",
       "      <td>0</td>\n",
       "      <td>0</td>\n",
       "      <td>NaN</td>\n",
       "      <td>0.0</td>\n",
       "      <td>60.0</td>\n",
       "      <td>0.000000</td>\n",
       "      <td>2140.0</td>\n",
       "      <td>NaN</td>\n",
       "      <td>NaN</td>\n",
       "      <td>16.0</td>\n",
       "      <td>ASM</td>\n",
       "      <td>3846.084722</td>\n",
       "      <td>NaN</td>\n",
       "      <td>NaN</td>\n",
       "      <td>NaN</td>\n",
       "    </tr>\n",
       "    <tr>\n",
       "      <th>Arizona</th>\n",
       "      <td>US</td>\n",
       "      <td>2021-01-02 05:30:44</td>\n",
       "      <td>33.7298</td>\n",
       "      <td>-111.4312</td>\n",
       "      <td>530267</td>\n",
       "      <td>9015</td>\n",
       "      <td>76934.0</td>\n",
       "      <td>444318.0</td>\n",
       "      <td>4.0</td>\n",
       "      <td>7285.171274</td>\n",
       "      <td>2878868.0</td>\n",
       "      <td>NaN</td>\n",
       "      <td>1.700087</td>\n",
       "      <td>84000004.0</td>\n",
       "      <td>USA</td>\n",
       "      <td>39551.860582</td>\n",
       "      <td>NaN</td>\n",
       "      <td>NaN</td>\n",
       "      <td>NaN</td>\n",
       "    </tr>\n",
       "    <tr>\n",
       "      <th>Arkansas</th>\n",
       "      <td>US</td>\n",
       "      <td>2021-01-02 05:30:44</td>\n",
       "      <td>34.9697</td>\n",
       "      <td>-92.3731</td>\n",
       "      <td>229442</td>\n",
       "      <td>3711</td>\n",
       "      <td>199247.0</td>\n",
       "      <td>26484.0</td>\n",
       "      <td>5.0</td>\n",
       "      <td>7602.945718</td>\n",
       "      <td>2051488.0</td>\n",
       "      <td>NaN</td>\n",
       "      <td>1.617402</td>\n",
       "      <td>84000005.0</td>\n",
       "      <td>USA</td>\n",
       "      <td>67979.497674</td>\n",
       "      <td>NaN</td>\n",
       "      <td>NaN</td>\n",
       "      <td>NaN</td>\n",
       "    </tr>\n",
       "    <tr>\n",
       "      <th>...</th>\n",
       "      <td>...</td>\n",
       "      <td>...</td>\n",
       "      <td>...</td>\n",
       "      <td>...</td>\n",
       "      <td>...</td>\n",
       "      <td>...</td>\n",
       "      <td>...</td>\n",
       "      <td>...</td>\n",
       "      <td>...</td>\n",
       "      <td>...</td>\n",
       "      <td>...</td>\n",
       "      <td>...</td>\n",
       "      <td>...</td>\n",
       "      <td>...</td>\n",
       "      <td>...</td>\n",
       "      <td>...</td>\n",
       "      <td>...</td>\n",
       "      <td>...</td>\n",
       "      <td>...</td>\n",
       "    </tr>\n",
       "    <tr>\n",
       "      <th>Virginia</th>\n",
       "      <td>US</td>\n",
       "      <td>2021-01-01 05:30:27</td>\n",
       "      <td>37.7693</td>\n",
       "      <td>-78.1700</td>\n",
       "      <td>349584</td>\n",
       "      <td>5032</td>\n",
       "      <td>30707.0</td>\n",
       "      <td>313845.0</td>\n",
       "      <td>51.0</td>\n",
       "      <td>4095.638473</td>\n",
       "      <td>4255991.0</td>\n",
       "      <td>NaN</td>\n",
       "      <td>1.439425</td>\n",
       "      <td>84000051.0</td>\n",
       "      <td>USA</td>\n",
       "      <td>49862.123205</td>\n",
       "      <td>NaN</td>\n",
       "      <td>NaN</td>\n",
       "      <td>NaN</td>\n",
       "    </tr>\n",
       "    <tr>\n",
       "      <th>Washington</th>\n",
       "      <td>US</td>\n",
       "      <td>2021-01-01 05:30:27</td>\n",
       "      <td>47.4009</td>\n",
       "      <td>-121.4905</td>\n",
       "      <td>246752</td>\n",
       "      <td>3461</td>\n",
       "      <td>NaN</td>\n",
       "      <td>243291.0</td>\n",
       "      <td>53.0</td>\n",
       "      <td>3240.386963</td>\n",
       "      <td>3805390.0</td>\n",
       "      <td>NaN</td>\n",
       "      <td>1.402623</td>\n",
       "      <td>84000053.0</td>\n",
       "      <td>USA</td>\n",
       "      <td>49972.993711</td>\n",
       "      <td>NaN</td>\n",
       "      <td>NaN</td>\n",
       "      <td>NaN</td>\n",
       "    </tr>\n",
       "    <tr>\n",
       "      <th>West Virginia</th>\n",
       "      <td>US</td>\n",
       "      <td>2021-01-01 05:30:27</td>\n",
       "      <td>38.4912</td>\n",
       "      <td>-80.9545</td>\n",
       "      <td>85334</td>\n",
       "      <td>1338</td>\n",
       "      <td>59508.0</td>\n",
       "      <td>24488.0</td>\n",
       "      <td>54.0</td>\n",
       "      <td>4761.551368</td>\n",
       "      <td>1514520.0</td>\n",
       "      <td>NaN</td>\n",
       "      <td>1.567957</td>\n",
       "      <td>84000054.0</td>\n",
       "      <td>USA</td>\n",
       "      <td>84508.692646</td>\n",
       "      <td>NaN</td>\n",
       "      <td>NaN</td>\n",
       "      <td>NaN</td>\n",
       "    </tr>\n",
       "    <tr>\n",
       "      <th>Wisconsin</th>\n",
       "      <td>US</td>\n",
       "      <td>2021-01-01 05:30:27</td>\n",
       "      <td>44.2685</td>\n",
       "      <td>-89.6165</td>\n",
       "      <td>520438</td>\n",
       "      <td>5242</td>\n",
       "      <td>447500.0</td>\n",
       "      <td>67696.0</td>\n",
       "      <td>55.0</td>\n",
       "      <td>8938.495481</td>\n",
       "      <td>5348488.0</td>\n",
       "      <td>NaN</td>\n",
       "      <td>1.007229</td>\n",
       "      <td>84000055.0</td>\n",
       "      <td>USA</td>\n",
       "      <td>91860.002192</td>\n",
       "      <td>NaN</td>\n",
       "      <td>NaN</td>\n",
       "      <td>NaN</td>\n",
       "    </tr>\n",
       "    <tr>\n",
       "      <th>Wyoming</th>\n",
       "      <td>US</td>\n",
       "      <td>2021-01-01 05:30:27</td>\n",
       "      <td>42.7560</td>\n",
       "      <td>-107.3025</td>\n",
       "      <td>44409</td>\n",
       "      <td>438</td>\n",
       "      <td>42570.0</td>\n",
       "      <td>1401.0</td>\n",
       "      <td>56.0</td>\n",
       "      <td>7673.142016</td>\n",
       "      <td>501784.0</td>\n",
       "      <td>NaN</td>\n",
       "      <td>0.986287</td>\n",
       "      <td>84000056.0</td>\n",
       "      <td>USA</td>\n",
       "      <td>86699.990842</td>\n",
       "      <td>NaN</td>\n",
       "      <td>NaN</td>\n",
       "      <td>NaN</td>\n",
       "    </tr>\n",
       "  </tbody>\n",
       "</table>\n",
       "<p>16258 rows × 19 columns</p>\n",
       "</div>"
      ],
      "text/plain": [
       "               Country_Region          Last_Update      Lat     Long_  \\\n",
       "Province_State                                                          \n",
       "Alabama                    US  2021-01-02 05:30:44  32.3182  -86.9023   \n",
       "Alaska                     US  2021-01-02 05:30:44  61.3707 -152.4044   \n",
       "American Samoa             US  2021-01-02 05:30:44 -14.2710 -170.1320   \n",
       "Arizona                    US  2021-01-02 05:30:44  33.7298 -111.4312   \n",
       "Arkansas                   US  2021-01-02 05:30:44  34.9697  -92.3731   \n",
       "...                       ...                  ...      ...       ...   \n",
       "Virginia                   US  2021-01-01 05:30:27  37.7693  -78.1700   \n",
       "Washington                 US  2021-01-01 05:30:27  47.4009 -121.4905   \n",
       "West Virginia              US  2021-01-01 05:30:27  38.4912  -80.9545   \n",
       "Wisconsin                  US  2021-01-01 05:30:27  44.2685  -89.6165   \n",
       "Wyoming                    US  2021-01-01 05:30:27  42.7560 -107.3025   \n",
       "\n",
       "                Confirmed  Deaths  Recovered    Active  FIPS  Incident_Rate  \\\n",
       "Province_State                                                                \n",
       "Alabama            365747    4872   202137.0  158738.0   1.0    7459.375895   \n",
       "Alaska              46986     206     7165.0   39615.0   2.0    6422.844801   \n",
       "American Samoa          0       0        NaN       0.0  60.0       0.000000   \n",
       "Arizona            530267    9015    76934.0  444318.0   4.0    7285.171274   \n",
       "Arkansas           229442    3711   199247.0   26484.0   5.0    7602.945718   \n",
       "...                   ...     ...        ...       ...   ...            ...   \n",
       "Virginia           349584    5032    30707.0  313845.0  51.0    4095.638473   \n",
       "Washington         246752    3461        NaN  243291.0  53.0    3240.386963   \n",
       "West Virginia       85334    1338    59508.0   24488.0  54.0    4761.551368   \n",
       "Wisconsin          520438    5242   447500.0   67696.0  55.0    8938.495481   \n",
       "Wyoming             44409     438    42570.0    1401.0  56.0    7673.142016   \n",
       "\n",
       "                Total_Test_Results  People_Hospitalized  Case_Fatality_Ratio  \\\n",
       "Province_State                                                                 \n",
       "Alabama                  1885216.0                  NaN             1.332068   \n",
       "Alaska                   1275750.0                  NaN             0.438428   \n",
       "American Samoa              2140.0                  NaN                  NaN   \n",
       "Arizona                  2878868.0                  NaN             1.700087   \n",
       "Arkansas                 2051488.0                  NaN             1.617402   \n",
       "...                            ...                  ...                  ...   \n",
       "Virginia                 4255991.0                  NaN             1.439425   \n",
       "Washington               3805390.0                  NaN             1.402623   \n",
       "West Virginia            1514520.0                  NaN             1.567957   \n",
       "Wisconsin                5348488.0                  NaN             1.007229   \n",
       "Wyoming                   501784.0                  NaN             0.986287   \n",
       "\n",
       "                       UID ISO3   Testing_Rate  Hospitalization_Rate  \\\n",
       "Province_State                                                         \n",
       "Alabama         84000001.0  USA   38448.804196                   NaN   \n",
       "Alaska          84000002.0  USA  174391.185778                   NaN   \n",
       "American Samoa        16.0  ASM    3846.084722                   NaN   \n",
       "Arizona         84000004.0  USA   39551.860582                   NaN   \n",
       "Arkansas        84000005.0  USA   67979.497674                   NaN   \n",
       "...                    ...  ...            ...                   ...   \n",
       "Virginia        84000051.0  USA   49862.123205                   NaN   \n",
       "Washington      84000053.0  USA   49972.993711                   NaN   \n",
       "West Virginia   84000054.0  USA   84508.692646                   NaN   \n",
       "Wisconsin       84000055.0  USA   91860.002192                   NaN   \n",
       "Wyoming         84000056.0  USA   86699.990842                   NaN   \n",
       "\n",
       "                People_Tested  Mortality_Rate  \n",
       "Province_State                                 \n",
       "Alabama                   NaN             NaN  \n",
       "Alaska                    NaN             NaN  \n",
       "American Samoa            NaN             NaN  \n",
       "Arizona                   NaN             NaN  \n",
       "Arkansas                  NaN             NaN  \n",
       "...                       ...             ...  \n",
       "Virginia                  NaN             NaN  \n",
       "Washington                NaN             NaN  \n",
       "West Virginia             NaN             NaN  \n",
       "Wisconsin                 NaN             NaN  \n",
       "Wyoming                   NaN             NaN  \n",
       "\n",
       "[16258 rows x 19 columns]"
      ]
     },
     "execution_count": 122,
     "metadata": {},
     "output_type": "execute_result"
    }
   ],
   "source": [
    "frame.set_index(\"Province_State\")"
   ]
  },
  {
   "cell_type": "code",
   "execution_count": 123,
   "metadata": {},
   "outputs": [
    {
     "data": {
      "text/html": [
       "<div>\n",
       "<style scoped>\n",
       "    .dataframe tbody tr th:only-of-type {\n",
       "        vertical-align: middle;\n",
       "    }\n",
       "\n",
       "    .dataframe tbody tr th {\n",
       "        vertical-align: top;\n",
       "    }\n",
       "\n",
       "    .dataframe thead th {\n",
       "        text-align: right;\n",
       "    }\n",
       "</style>\n",
       "<table border=\"1\" class=\"dataframe\">\n",
       "  <thead>\n",
       "    <tr style=\"text-align: right;\">\n",
       "      <th></th>\n",
       "      <th>Province_State</th>\n",
       "      <th>Country_Region</th>\n",
       "      <th>Last_Update</th>\n",
       "      <th>Lat</th>\n",
       "      <th>Long_</th>\n",
       "      <th>Confirmed</th>\n",
       "      <th>Deaths</th>\n",
       "      <th>Recovered</th>\n",
       "      <th>Active</th>\n",
       "      <th>FIPS</th>\n",
       "      <th>Incident_Rate</th>\n",
       "      <th>Total_Test_Results</th>\n",
       "      <th>People_Hospitalized</th>\n",
       "      <th>Case_Fatality_Ratio</th>\n",
       "      <th>UID</th>\n",
       "      <th>ISO3</th>\n",
       "      <th>Testing_Rate</th>\n",
       "      <th>Hospitalization_Rate</th>\n",
       "      <th>People_Tested</th>\n",
       "      <th>Mortality_Rate</th>\n",
       "    </tr>\n",
       "  </thead>\n",
       "  <tbody>\n",
       "    <tr>\n",
       "      <th>0</th>\n",
       "      <td>Alabama</td>\n",
       "      <td>US</td>\n",
       "      <td>2021-01-02 05:30:44</td>\n",
       "      <td>32.3182</td>\n",
       "      <td>-86.9023</td>\n",
       "      <td>365747</td>\n",
       "      <td>4872</td>\n",
       "      <td>202137.0</td>\n",
       "      <td>158738.0</td>\n",
       "      <td>1.0</td>\n",
       "      <td>7459.375895</td>\n",
       "      <td>1885216.0</td>\n",
       "      <td>NaN</td>\n",
       "      <td>1.332068</td>\n",
       "      <td>84000001.0</td>\n",
       "      <td>USA</td>\n",
       "      <td>38448.804196</td>\n",
       "      <td>NaN</td>\n",
       "      <td>NaN</td>\n",
       "      <td>NaN</td>\n",
       "    </tr>\n",
       "    <tr>\n",
       "      <th>1</th>\n",
       "      <td>Alaska</td>\n",
       "      <td>US</td>\n",
       "      <td>2021-01-02 05:30:44</td>\n",
       "      <td>61.3707</td>\n",
       "      <td>-152.4044</td>\n",
       "      <td>46986</td>\n",
       "      <td>206</td>\n",
       "      <td>7165.0</td>\n",
       "      <td>39615.0</td>\n",
       "      <td>2.0</td>\n",
       "      <td>6422.844801</td>\n",
       "      <td>1275750.0</td>\n",
       "      <td>NaN</td>\n",
       "      <td>0.438428</td>\n",
       "      <td>84000002.0</td>\n",
       "      <td>USA</td>\n",
       "      <td>174391.185778</td>\n",
       "      <td>NaN</td>\n",
       "      <td>NaN</td>\n",
       "      <td>NaN</td>\n",
       "    </tr>\n",
       "    <tr>\n",
       "      <th>2</th>\n",
       "      <td>American Samoa</td>\n",
       "      <td>US</td>\n",
       "      <td>2021-01-02 05:30:44</td>\n",
       "      <td>-14.2710</td>\n",
       "      <td>-170.1320</td>\n",
       "      <td>0</td>\n",
       "      <td>0</td>\n",
       "      <td>NaN</td>\n",
       "      <td>0.0</td>\n",
       "      <td>60.0</td>\n",
       "      <td>0.000000</td>\n",
       "      <td>2140.0</td>\n",
       "      <td>NaN</td>\n",
       "      <td>NaN</td>\n",
       "      <td>16.0</td>\n",
       "      <td>ASM</td>\n",
       "      <td>3846.084722</td>\n",
       "      <td>NaN</td>\n",
       "      <td>NaN</td>\n",
       "      <td>NaN</td>\n",
       "    </tr>\n",
       "    <tr>\n",
       "      <th>3</th>\n",
       "      <td>Arizona</td>\n",
       "      <td>US</td>\n",
       "      <td>2021-01-02 05:30:44</td>\n",
       "      <td>33.7298</td>\n",
       "      <td>-111.4312</td>\n",
       "      <td>530267</td>\n",
       "      <td>9015</td>\n",
       "      <td>76934.0</td>\n",
       "      <td>444318.0</td>\n",
       "      <td>4.0</td>\n",
       "      <td>7285.171274</td>\n",
       "      <td>2878868.0</td>\n",
       "      <td>NaN</td>\n",
       "      <td>1.700087</td>\n",
       "      <td>84000004.0</td>\n",
       "      <td>USA</td>\n",
       "      <td>39551.860582</td>\n",
       "      <td>NaN</td>\n",
       "      <td>NaN</td>\n",
       "      <td>NaN</td>\n",
       "    </tr>\n",
       "    <tr>\n",
       "      <th>4</th>\n",
       "      <td>Arkansas</td>\n",
       "      <td>US</td>\n",
       "      <td>2021-01-02 05:30:44</td>\n",
       "      <td>34.9697</td>\n",
       "      <td>-92.3731</td>\n",
       "      <td>229442</td>\n",
       "      <td>3711</td>\n",
       "      <td>199247.0</td>\n",
       "      <td>26484.0</td>\n",
       "      <td>5.0</td>\n",
       "      <td>7602.945718</td>\n",
       "      <td>2051488.0</td>\n",
       "      <td>NaN</td>\n",
       "      <td>1.617402</td>\n",
       "      <td>84000005.0</td>\n",
       "      <td>USA</td>\n",
       "      <td>67979.497674</td>\n",
       "      <td>NaN</td>\n",
       "      <td>NaN</td>\n",
       "      <td>NaN</td>\n",
       "    </tr>\n",
       "    <tr>\n",
       "      <th>...</th>\n",
       "      <td>...</td>\n",
       "      <td>...</td>\n",
       "      <td>...</td>\n",
       "      <td>...</td>\n",
       "      <td>...</td>\n",
       "      <td>...</td>\n",
       "      <td>...</td>\n",
       "      <td>...</td>\n",
       "      <td>...</td>\n",
       "      <td>...</td>\n",
       "      <td>...</td>\n",
       "      <td>...</td>\n",
       "      <td>...</td>\n",
       "      <td>...</td>\n",
       "      <td>...</td>\n",
       "      <td>...</td>\n",
       "      <td>...</td>\n",
       "      <td>...</td>\n",
       "      <td>...</td>\n",
       "      <td>...</td>\n",
       "    </tr>\n",
       "    <tr>\n",
       "      <th>16253</th>\n",
       "      <td>Virginia</td>\n",
       "      <td>US</td>\n",
       "      <td>2021-01-01 05:30:27</td>\n",
       "      <td>37.7693</td>\n",
       "      <td>-78.1700</td>\n",
       "      <td>349584</td>\n",
       "      <td>5032</td>\n",
       "      <td>30707.0</td>\n",
       "      <td>313845.0</td>\n",
       "      <td>51.0</td>\n",
       "      <td>4095.638473</td>\n",
       "      <td>4255991.0</td>\n",
       "      <td>NaN</td>\n",
       "      <td>1.439425</td>\n",
       "      <td>84000051.0</td>\n",
       "      <td>USA</td>\n",
       "      <td>49862.123205</td>\n",
       "      <td>NaN</td>\n",
       "      <td>NaN</td>\n",
       "      <td>NaN</td>\n",
       "    </tr>\n",
       "    <tr>\n",
       "      <th>16254</th>\n",
       "      <td>Washington</td>\n",
       "      <td>US</td>\n",
       "      <td>2021-01-01 05:30:27</td>\n",
       "      <td>47.4009</td>\n",
       "      <td>-121.4905</td>\n",
       "      <td>246752</td>\n",
       "      <td>3461</td>\n",
       "      <td>NaN</td>\n",
       "      <td>243291.0</td>\n",
       "      <td>53.0</td>\n",
       "      <td>3240.386963</td>\n",
       "      <td>3805390.0</td>\n",
       "      <td>NaN</td>\n",
       "      <td>1.402623</td>\n",
       "      <td>84000053.0</td>\n",
       "      <td>USA</td>\n",
       "      <td>49972.993711</td>\n",
       "      <td>NaN</td>\n",
       "      <td>NaN</td>\n",
       "      <td>NaN</td>\n",
       "    </tr>\n",
       "    <tr>\n",
       "      <th>16255</th>\n",
       "      <td>West Virginia</td>\n",
       "      <td>US</td>\n",
       "      <td>2021-01-01 05:30:27</td>\n",
       "      <td>38.4912</td>\n",
       "      <td>-80.9545</td>\n",
       "      <td>85334</td>\n",
       "      <td>1338</td>\n",
       "      <td>59508.0</td>\n",
       "      <td>24488.0</td>\n",
       "      <td>54.0</td>\n",
       "      <td>4761.551368</td>\n",
       "      <td>1514520.0</td>\n",
       "      <td>NaN</td>\n",
       "      <td>1.567957</td>\n",
       "      <td>84000054.0</td>\n",
       "      <td>USA</td>\n",
       "      <td>84508.692646</td>\n",
       "      <td>NaN</td>\n",
       "      <td>NaN</td>\n",
       "      <td>NaN</td>\n",
       "    </tr>\n",
       "    <tr>\n",
       "      <th>16256</th>\n",
       "      <td>Wisconsin</td>\n",
       "      <td>US</td>\n",
       "      <td>2021-01-01 05:30:27</td>\n",
       "      <td>44.2685</td>\n",
       "      <td>-89.6165</td>\n",
       "      <td>520438</td>\n",
       "      <td>5242</td>\n",
       "      <td>447500.0</td>\n",
       "      <td>67696.0</td>\n",
       "      <td>55.0</td>\n",
       "      <td>8938.495481</td>\n",
       "      <td>5348488.0</td>\n",
       "      <td>NaN</td>\n",
       "      <td>1.007229</td>\n",
       "      <td>84000055.0</td>\n",
       "      <td>USA</td>\n",
       "      <td>91860.002192</td>\n",
       "      <td>NaN</td>\n",
       "      <td>NaN</td>\n",
       "      <td>NaN</td>\n",
       "    </tr>\n",
       "    <tr>\n",
       "      <th>16257</th>\n",
       "      <td>Wyoming</td>\n",
       "      <td>US</td>\n",
       "      <td>2021-01-01 05:30:27</td>\n",
       "      <td>42.7560</td>\n",
       "      <td>-107.3025</td>\n",
       "      <td>44409</td>\n",
       "      <td>438</td>\n",
       "      <td>42570.0</td>\n",
       "      <td>1401.0</td>\n",
       "      <td>56.0</td>\n",
       "      <td>7673.142016</td>\n",
       "      <td>501784.0</td>\n",
       "      <td>NaN</td>\n",
       "      <td>0.986287</td>\n",
       "      <td>84000056.0</td>\n",
       "      <td>USA</td>\n",
       "      <td>86699.990842</td>\n",
       "      <td>NaN</td>\n",
       "      <td>NaN</td>\n",
       "      <td>NaN</td>\n",
       "    </tr>\n",
       "  </tbody>\n",
       "</table>\n",
       "<p>16258 rows × 20 columns</p>\n",
       "</div>"
      ],
      "text/plain": [
       "       Province_State Country_Region          Last_Update      Lat     Long_  \\\n",
       "0             Alabama             US  2021-01-02 05:30:44  32.3182  -86.9023   \n",
       "1              Alaska             US  2021-01-02 05:30:44  61.3707 -152.4044   \n",
       "2      American Samoa             US  2021-01-02 05:30:44 -14.2710 -170.1320   \n",
       "3             Arizona             US  2021-01-02 05:30:44  33.7298 -111.4312   \n",
       "4            Arkansas             US  2021-01-02 05:30:44  34.9697  -92.3731   \n",
       "...               ...            ...                  ...      ...       ...   \n",
       "16253        Virginia             US  2021-01-01 05:30:27  37.7693  -78.1700   \n",
       "16254      Washington             US  2021-01-01 05:30:27  47.4009 -121.4905   \n",
       "16255   West Virginia             US  2021-01-01 05:30:27  38.4912  -80.9545   \n",
       "16256       Wisconsin             US  2021-01-01 05:30:27  44.2685  -89.6165   \n",
       "16257         Wyoming             US  2021-01-01 05:30:27  42.7560 -107.3025   \n",
       "\n",
       "       Confirmed  Deaths  Recovered    Active  FIPS  Incident_Rate  \\\n",
       "0         365747    4872   202137.0  158738.0   1.0    7459.375895   \n",
       "1          46986     206     7165.0   39615.0   2.0    6422.844801   \n",
       "2              0       0        NaN       0.0  60.0       0.000000   \n",
       "3         530267    9015    76934.0  444318.0   4.0    7285.171274   \n",
       "4         229442    3711   199247.0   26484.0   5.0    7602.945718   \n",
       "...          ...     ...        ...       ...   ...            ...   \n",
       "16253     349584    5032    30707.0  313845.0  51.0    4095.638473   \n",
       "16254     246752    3461        NaN  243291.0  53.0    3240.386963   \n",
       "16255      85334    1338    59508.0   24488.0  54.0    4761.551368   \n",
       "16256     520438    5242   447500.0   67696.0  55.0    8938.495481   \n",
       "16257      44409     438    42570.0    1401.0  56.0    7673.142016   \n",
       "\n",
       "       Total_Test_Results  People_Hospitalized  Case_Fatality_Ratio  \\\n",
       "0               1885216.0                  NaN             1.332068   \n",
       "1               1275750.0                  NaN             0.438428   \n",
       "2                  2140.0                  NaN                  NaN   \n",
       "3               2878868.0                  NaN             1.700087   \n",
       "4               2051488.0                  NaN             1.617402   \n",
       "...                   ...                  ...                  ...   \n",
       "16253           4255991.0                  NaN             1.439425   \n",
       "16254           3805390.0                  NaN             1.402623   \n",
       "16255           1514520.0                  NaN             1.567957   \n",
       "16256           5348488.0                  NaN             1.007229   \n",
       "16257            501784.0                  NaN             0.986287   \n",
       "\n",
       "              UID ISO3   Testing_Rate  Hospitalization_Rate  People_Tested  \\\n",
       "0      84000001.0  USA   38448.804196                   NaN            NaN   \n",
       "1      84000002.0  USA  174391.185778                   NaN            NaN   \n",
       "2            16.0  ASM    3846.084722                   NaN            NaN   \n",
       "3      84000004.0  USA   39551.860582                   NaN            NaN   \n",
       "4      84000005.0  USA   67979.497674                   NaN            NaN   \n",
       "...           ...  ...            ...                   ...            ...   \n",
       "16253  84000051.0  USA   49862.123205                   NaN            NaN   \n",
       "16254  84000053.0  USA   49972.993711                   NaN            NaN   \n",
       "16255  84000054.0  USA   84508.692646                   NaN            NaN   \n",
       "16256  84000055.0  USA   91860.002192                   NaN            NaN   \n",
       "16257  84000056.0  USA   86699.990842                   NaN            NaN   \n",
       "\n",
       "       Mortality_Rate  \n",
       "0                 NaN  \n",
       "1                 NaN  \n",
       "2                 NaN  \n",
       "3                 NaN  \n",
       "4                 NaN  \n",
       "...               ...  \n",
       "16253             NaN  \n",
       "16254             NaN  \n",
       "16255             NaN  \n",
       "16256             NaN  \n",
       "16257             NaN  \n",
       "\n",
       "[16258 rows x 20 columns]"
      ]
     },
     "execution_count": 123,
     "metadata": {},
     "output_type": "execute_result"
    }
   ],
   "source": [
    "frame"
   ]
  },
  {
   "cell_type": "code",
   "execution_count": 124,
   "metadata": {},
   "outputs": [],
   "source": [
    "frame.set_index(['Province_State', 'Last_Update'], inplace=True)\n",
    "frame.sort_index(inplace=True)"
   ]
  },
  {
   "cell_type": "code",
   "execution_count": 125,
   "metadata": {},
   "outputs": [
    {
     "data": {
      "text/html": [
       "<div>\n",
       "<style scoped>\n",
       "    .dataframe tbody tr th:only-of-type {\n",
       "        vertical-align: middle;\n",
       "    }\n",
       "\n",
       "    .dataframe tbody tr th {\n",
       "        vertical-align: top;\n",
       "    }\n",
       "\n",
       "    .dataframe thead th {\n",
       "        text-align: right;\n",
       "    }\n",
       "</style>\n",
       "<table border=\"1\" class=\"dataframe\">\n",
       "  <thead>\n",
       "    <tr style=\"text-align: right;\">\n",
       "      <th></th>\n",
       "      <th></th>\n",
       "      <th>Country_Region</th>\n",
       "      <th>Lat</th>\n",
       "      <th>Long_</th>\n",
       "      <th>Confirmed</th>\n",
       "      <th>Deaths</th>\n",
       "      <th>Recovered</th>\n",
       "      <th>Active</th>\n",
       "      <th>FIPS</th>\n",
       "      <th>Incident_Rate</th>\n",
       "      <th>Total_Test_Results</th>\n",
       "      <th>People_Hospitalized</th>\n",
       "      <th>Case_Fatality_Ratio</th>\n",
       "      <th>UID</th>\n",
       "      <th>ISO3</th>\n",
       "      <th>Testing_Rate</th>\n",
       "      <th>Hospitalization_Rate</th>\n",
       "      <th>People_Tested</th>\n",
       "      <th>Mortality_Rate</th>\n",
       "    </tr>\n",
       "    <tr>\n",
       "      <th>Province_State</th>\n",
       "      <th>Last_Update</th>\n",
       "      <th></th>\n",
       "      <th></th>\n",
       "      <th></th>\n",
       "      <th></th>\n",
       "      <th></th>\n",
       "      <th></th>\n",
       "      <th></th>\n",
       "      <th></th>\n",
       "      <th></th>\n",
       "      <th></th>\n",
       "      <th></th>\n",
       "      <th></th>\n",
       "      <th></th>\n",
       "      <th></th>\n",
       "      <th></th>\n",
       "      <th></th>\n",
       "      <th></th>\n",
       "      <th></th>\n",
       "    </tr>\n",
       "  </thead>\n",
       "  <tbody>\n",
       "    <tr>\n",
       "      <th rowspan=\"5\" valign=\"top\">Alabama</th>\n",
       "      <th>2020-04-12 23:18:15</th>\n",
       "      <td>US</td>\n",
       "      <td>32.3182</td>\n",
       "      <td>-86.9023</td>\n",
       "      <td>3667</td>\n",
       "      <td>93</td>\n",
       "      <td>NaN</td>\n",
       "      <td>3470.0</td>\n",
       "      <td>1.0</td>\n",
       "      <td>75.988020</td>\n",
       "      <td>NaN</td>\n",
       "      <td>437.0</td>\n",
       "      <td>NaN</td>\n",
       "      <td>84000001.0</td>\n",
       "      <td>USA</td>\n",
       "      <td>460.300152</td>\n",
       "      <td>12.264945</td>\n",
       "      <td>21583.0</td>\n",
       "      <td>2.610160</td>\n",
       "    </tr>\n",
       "    <tr>\n",
       "      <th>2020-04-13 23:07:54</th>\n",
       "      <td>US</td>\n",
       "      <td>32.3182</td>\n",
       "      <td>-86.9023</td>\n",
       "      <td>3870</td>\n",
       "      <td>99</td>\n",
       "      <td>NaN</td>\n",
       "      <td>3635.0</td>\n",
       "      <td>1.0</td>\n",
       "      <td>79.634933</td>\n",
       "      <td>NaN</td>\n",
       "      <td>457.0</td>\n",
       "      <td>NaN</td>\n",
       "      <td>84000001.0</td>\n",
       "      <td>USA</td>\n",
       "      <td>622.363852</td>\n",
       "      <td>12.238886</td>\n",
       "      <td>29182.0</td>\n",
       "      <td>2.651312</td>\n",
       "    </tr>\n",
       "    <tr>\n",
       "      <th>2020-04-14 23:33:31</th>\n",
       "      <td>US</td>\n",
       "      <td>32.3182</td>\n",
       "      <td>-86.9023</td>\n",
       "      <td>4041</td>\n",
       "      <td>114</td>\n",
       "      <td>NaN</td>\n",
       "      <td>3839.0</td>\n",
       "      <td>1.0</td>\n",
       "      <td>84.305541</td>\n",
       "      <td>NaN</td>\n",
       "      <td>493.0</td>\n",
       "      <td>NaN</td>\n",
       "      <td>84000001.0</td>\n",
       "      <td>USA</td>\n",
       "      <td>706.285508</td>\n",
       "      <td>12.471541</td>\n",
       "      <td>33117.0</td>\n",
       "      <td>2.883886</td>\n",
       "    </tr>\n",
       "    <tr>\n",
       "      <th>2020-04-15 22:56:51</th>\n",
       "      <td>US</td>\n",
       "      <td>32.3182</td>\n",
       "      <td>-86.9023</td>\n",
       "      <td>4307</td>\n",
       "      <td>118</td>\n",
       "      <td>NaN</td>\n",
       "      <td>3957.0</td>\n",
       "      <td>1.0</td>\n",
       "      <td>86.907433</td>\n",
       "      <td>NaN</td>\n",
       "      <td>525.0</td>\n",
       "      <td>NaN</td>\n",
       "      <td>84000001.0</td>\n",
       "      <td>USA</td>\n",
       "      <td>726.759406</td>\n",
       "      <td>12.883436</td>\n",
       "      <td>34077.0</td>\n",
       "      <td>2.895706</td>\n",
       "    </tr>\n",
       "    <tr>\n",
       "      <th>2020-04-16 23:30:51</th>\n",
       "      <td>US</td>\n",
       "      <td>32.3182</td>\n",
       "      <td>-86.9023</td>\n",
       "      <td>4465</td>\n",
       "      <td>133</td>\n",
       "      <td>NaN</td>\n",
       "      <td>4212.0</td>\n",
       "      <td>1.0</td>\n",
       "      <td>92.665716</td>\n",
       "      <td>NaN</td>\n",
       "      <td>553.0</td>\n",
       "      <td>NaN</td>\n",
       "      <td>84000001.0</td>\n",
       "      <td>USA</td>\n",
       "      <td>776.110032</td>\n",
       "      <td>12.727273</td>\n",
       "      <td>36391.0</td>\n",
       "      <td>3.060990</td>\n",
       "    </tr>\n",
       "    <tr>\n",
       "      <th>...</th>\n",
       "      <th>...</th>\n",
       "      <td>...</td>\n",
       "      <td>...</td>\n",
       "      <td>...</td>\n",
       "      <td>...</td>\n",
       "      <td>...</td>\n",
       "      <td>...</td>\n",
       "      <td>...</td>\n",
       "      <td>...</td>\n",
       "      <td>...</td>\n",
       "      <td>...</td>\n",
       "      <td>...</td>\n",
       "      <td>...</td>\n",
       "      <td>...</td>\n",
       "      <td>...</td>\n",
       "      <td>...</td>\n",
       "      <td>...</td>\n",
       "      <td>...</td>\n",
       "      <td>...</td>\n",
       "    </tr>\n",
       "    <tr>\n",
       "      <th rowspan=\"5\" valign=\"top\">Wyoming</th>\n",
       "      <th>2021-01-13 05:30:34</th>\n",
       "      <td>US</td>\n",
       "      <td>42.7560</td>\n",
       "      <td>-107.3025</td>\n",
       "      <td>48072</td>\n",
       "      <td>522</td>\n",
       "      <td>45223.0</td>\n",
       "      <td>2327.0</td>\n",
       "      <td>56.0</td>\n",
       "      <td>8306.047941</td>\n",
       "      <td>536070.0</td>\n",
       "      <td>NaN</td>\n",
       "      <td>1.085871</td>\n",
       "      <td>84000056.0</td>\n",
       "      <td>USA</td>\n",
       "      <td>92624.045587</td>\n",
       "      <td>NaN</td>\n",
       "      <td>NaN</td>\n",
       "      <td>NaN</td>\n",
       "    </tr>\n",
       "    <tr>\n",
       "      <th>2021-01-14 05:30:28</th>\n",
       "      <td>US</td>\n",
       "      <td>42.7560</td>\n",
       "      <td>-107.3025</td>\n",
       "      <td>48289</td>\n",
       "      <td>522</td>\n",
       "      <td>45904.0</td>\n",
       "      <td>1863.0</td>\n",
       "      <td>56.0</td>\n",
       "      <td>8343.541958</td>\n",
       "      <td>537679.0</td>\n",
       "      <td>NaN</td>\n",
       "      <td>1.080992</td>\n",
       "      <td>84000056.0</td>\n",
       "      <td>USA</td>\n",
       "      <td>92902.054223</td>\n",
       "      <td>NaN</td>\n",
       "      <td>NaN</td>\n",
       "      <td>NaN</td>\n",
       "    </tr>\n",
       "    <tr>\n",
       "      <th>2021-01-15 05:30:28</th>\n",
       "      <td>US</td>\n",
       "      <td>42.7560</td>\n",
       "      <td>-107.3025</td>\n",
       "      <td>48701</td>\n",
       "      <td>522</td>\n",
       "      <td>46127.0</td>\n",
       "      <td>2052.0</td>\n",
       "      <td>56.0</td>\n",
       "      <td>8414.728756</td>\n",
       "      <td>542316.0</td>\n",
       "      <td>NaN</td>\n",
       "      <td>1.071847</td>\n",
       "      <td>84000056.0</td>\n",
       "      <td>USA</td>\n",
       "      <td>93703.251267</td>\n",
       "      <td>NaN</td>\n",
       "      <td>NaN</td>\n",
       "      <td>NaN</td>\n",
       "    </tr>\n",
       "    <tr>\n",
       "      <th>2021-01-16 05:30:49</th>\n",
       "      <td>US</td>\n",
       "      <td>42.7560</td>\n",
       "      <td>-107.3025</td>\n",
       "      <td>48909</td>\n",
       "      <td>522</td>\n",
       "      <td>46502.0</td>\n",
       "      <td>1885.0</td>\n",
       "      <td>56.0</td>\n",
       "      <td>8450.667722</td>\n",
       "      <td>549805.0</td>\n",
       "      <td>NaN</td>\n",
       "      <td>1.067288</td>\n",
       "      <td>84000056.0</td>\n",
       "      <td>USA</td>\n",
       "      <td>94997.226825</td>\n",
       "      <td>NaN</td>\n",
       "      <td>NaN</td>\n",
       "      <td>NaN</td>\n",
       "    </tr>\n",
       "    <tr>\n",
       "      <th>2021-01-17 05:30:35</th>\n",
       "      <td>US</td>\n",
       "      <td>42.7560</td>\n",
       "      <td>-107.3025</td>\n",
       "      <td>49068</td>\n",
       "      <td>522</td>\n",
       "      <td>46734.0</td>\n",
       "      <td>1812.0</td>\n",
       "      <td>56.0</td>\n",
       "      <td>8478.140297</td>\n",
       "      <td>549805.0</td>\n",
       "      <td>NaN</td>\n",
       "      <td>1.063830</td>\n",
       "      <td>84000056.0</td>\n",
       "      <td>USA</td>\n",
       "      <td>94997.226825</td>\n",
       "      <td>NaN</td>\n",
       "      <td>NaN</td>\n",
       "      <td>NaN</td>\n",
       "    </tr>\n",
       "  </tbody>\n",
       "</table>\n",
       "<p>16258 rows × 18 columns</p>\n",
       "</div>"
      ],
      "text/plain": [
       "                                   Country_Region      Lat     Long_  \\\n",
       "Province_State Last_Update                                             \n",
       "Alabama        2020-04-12 23:18:15             US  32.3182  -86.9023   \n",
       "               2020-04-13 23:07:54             US  32.3182  -86.9023   \n",
       "               2020-04-14 23:33:31             US  32.3182  -86.9023   \n",
       "               2020-04-15 22:56:51             US  32.3182  -86.9023   \n",
       "               2020-04-16 23:30:51             US  32.3182  -86.9023   \n",
       "...                                           ...      ...       ...   \n",
       "Wyoming        2021-01-13 05:30:34             US  42.7560 -107.3025   \n",
       "               2021-01-14 05:30:28             US  42.7560 -107.3025   \n",
       "               2021-01-15 05:30:28             US  42.7560 -107.3025   \n",
       "               2021-01-16 05:30:49             US  42.7560 -107.3025   \n",
       "               2021-01-17 05:30:35             US  42.7560 -107.3025   \n",
       "\n",
       "                                    Confirmed  Deaths  Recovered  Active  \\\n",
       "Province_State Last_Update                                                 \n",
       "Alabama        2020-04-12 23:18:15       3667      93        NaN  3470.0   \n",
       "               2020-04-13 23:07:54       3870      99        NaN  3635.0   \n",
       "               2020-04-14 23:33:31       4041     114        NaN  3839.0   \n",
       "               2020-04-15 22:56:51       4307     118        NaN  3957.0   \n",
       "               2020-04-16 23:30:51       4465     133        NaN  4212.0   \n",
       "...                                       ...     ...        ...     ...   \n",
       "Wyoming        2021-01-13 05:30:34      48072     522    45223.0  2327.0   \n",
       "               2021-01-14 05:30:28      48289     522    45904.0  1863.0   \n",
       "               2021-01-15 05:30:28      48701     522    46127.0  2052.0   \n",
       "               2021-01-16 05:30:49      48909     522    46502.0  1885.0   \n",
       "               2021-01-17 05:30:35      49068     522    46734.0  1812.0   \n",
       "\n",
       "                                    FIPS  Incident_Rate  Total_Test_Results  \\\n",
       "Province_State Last_Update                                                    \n",
       "Alabama        2020-04-12 23:18:15   1.0      75.988020                 NaN   \n",
       "               2020-04-13 23:07:54   1.0      79.634933                 NaN   \n",
       "               2020-04-14 23:33:31   1.0      84.305541                 NaN   \n",
       "               2020-04-15 22:56:51   1.0      86.907433                 NaN   \n",
       "               2020-04-16 23:30:51   1.0      92.665716                 NaN   \n",
       "...                                  ...            ...                 ...   \n",
       "Wyoming        2021-01-13 05:30:34  56.0    8306.047941            536070.0   \n",
       "               2021-01-14 05:30:28  56.0    8343.541958            537679.0   \n",
       "               2021-01-15 05:30:28  56.0    8414.728756            542316.0   \n",
       "               2021-01-16 05:30:49  56.0    8450.667722            549805.0   \n",
       "               2021-01-17 05:30:35  56.0    8478.140297            549805.0   \n",
       "\n",
       "                                    People_Hospitalized  Case_Fatality_Ratio  \\\n",
       "Province_State Last_Update                                                     \n",
       "Alabama        2020-04-12 23:18:15                437.0                  NaN   \n",
       "               2020-04-13 23:07:54                457.0                  NaN   \n",
       "               2020-04-14 23:33:31                493.0                  NaN   \n",
       "               2020-04-15 22:56:51                525.0                  NaN   \n",
       "               2020-04-16 23:30:51                553.0                  NaN   \n",
       "...                                                 ...                  ...   \n",
       "Wyoming        2021-01-13 05:30:34                  NaN             1.085871   \n",
       "               2021-01-14 05:30:28                  NaN             1.080992   \n",
       "               2021-01-15 05:30:28                  NaN             1.071847   \n",
       "               2021-01-16 05:30:49                  NaN             1.067288   \n",
       "               2021-01-17 05:30:35                  NaN             1.063830   \n",
       "\n",
       "                                           UID ISO3  Testing_Rate  \\\n",
       "Province_State Last_Update                                          \n",
       "Alabama        2020-04-12 23:18:15  84000001.0  USA    460.300152   \n",
       "               2020-04-13 23:07:54  84000001.0  USA    622.363852   \n",
       "               2020-04-14 23:33:31  84000001.0  USA    706.285508   \n",
       "               2020-04-15 22:56:51  84000001.0  USA    726.759406   \n",
       "               2020-04-16 23:30:51  84000001.0  USA    776.110032   \n",
       "...                                        ...  ...           ...   \n",
       "Wyoming        2021-01-13 05:30:34  84000056.0  USA  92624.045587   \n",
       "               2021-01-14 05:30:28  84000056.0  USA  92902.054223   \n",
       "               2021-01-15 05:30:28  84000056.0  USA  93703.251267   \n",
       "               2021-01-16 05:30:49  84000056.0  USA  94997.226825   \n",
       "               2021-01-17 05:30:35  84000056.0  USA  94997.226825   \n",
       "\n",
       "                                    Hospitalization_Rate  People_Tested  \\\n",
       "Province_State Last_Update                                                \n",
       "Alabama        2020-04-12 23:18:15             12.264945        21583.0   \n",
       "               2020-04-13 23:07:54             12.238886        29182.0   \n",
       "               2020-04-14 23:33:31             12.471541        33117.0   \n",
       "               2020-04-15 22:56:51             12.883436        34077.0   \n",
       "               2020-04-16 23:30:51             12.727273        36391.0   \n",
       "...                                                  ...            ...   \n",
       "Wyoming        2021-01-13 05:30:34                   NaN            NaN   \n",
       "               2021-01-14 05:30:28                   NaN            NaN   \n",
       "               2021-01-15 05:30:28                   NaN            NaN   \n",
       "               2021-01-16 05:30:49                   NaN            NaN   \n",
       "               2021-01-17 05:30:35                   NaN            NaN   \n",
       "\n",
       "                                    Mortality_Rate  \n",
       "Province_State Last_Update                          \n",
       "Alabama        2020-04-12 23:18:15        2.610160  \n",
       "               2020-04-13 23:07:54        2.651312  \n",
       "               2020-04-14 23:33:31        2.883886  \n",
       "               2020-04-15 22:56:51        2.895706  \n",
       "               2020-04-16 23:30:51        3.060990  \n",
       "...                                            ...  \n",
       "Wyoming        2021-01-13 05:30:34             NaN  \n",
       "               2021-01-14 05:30:28             NaN  \n",
       "               2021-01-15 05:30:28             NaN  \n",
       "               2021-01-16 05:30:49             NaN  \n",
       "               2021-01-17 05:30:35             NaN  \n",
       "\n",
       "[16258 rows x 18 columns]"
      ]
     },
     "execution_count": 125,
     "metadata": {},
     "output_type": "execute_result"
    }
   ],
   "source": [
    "frame"
   ]
  },
  {
   "cell_type": "code",
   "execution_count": 161,
   "metadata": {},
   "outputs": [
    {
     "name": "stdout",
     "output_type": "stream",
     "text": [
      "                Lat         Long_     Confirmed        Deaths     Recovered  \\\n",
      "count  15680.000000  15680.000000  1.625800e+04  16258.000000  1.307500e+04   \n",
      "mean      36.840089    -85.206614  1.275021e+05   3212.556711  5.860917e+04   \n",
      "std       10.789736     49.309784  2.320160e+05   5732.005920  1.273311e+05   \n",
      "min      -14.271000   -170.132200  0.000000e+00      0.000000  0.000000e+00   \n",
      "25%       34.594600   -101.165775  7.308000e+03    160.000000  2.998000e+03   \n",
      "50%       39.061850    -87.944200  4.307300e+04    960.500000  1.217200e+04   \n",
      "75%       42.361650    -76.970625  1.456225e+05   3652.000000  6.348850e+04   \n",
      "max       61.370700    145.673900  2.959863e+06  40806.000000  1.666745e+06   \n",
      "\n",
      "             Active          FIPS  Incident_Rate  Total_Test_Results  \\\n",
      "count  1.624100e+04  16239.000000   15680.000000        3.864000e+03   \n",
      "mean   7.684026e+04   3276.768397    2077.182997        3.864179e+06   \n",
      "std    1.875436e+05  17228.900563    2215.170878        5.225306e+06   \n",
      "min   -1.207200e+05      1.000000       0.000000        1.768000e+03   \n",
      "25%    2.808000e+03     18.000000     409.925098        9.051695e+05   \n",
      "50%    1.541900e+04     32.000000    1342.938385        2.100450e+06   \n",
      "75%    6.693400e+04     48.000000    2861.698344        4.579017e+06   \n",
      "max    2.926455e+06  99999.000000   12559.870457        3.780226e+07   \n",
      "\n",
      "       People_Hospitalized  Case_Fatality_Ratio           UID   Testing_Rate  \\\n",
      "count          5129.000000          3933.000000  1.625800e+04   15680.000000   \n",
      "mean           6151.226555             1.767392  7.677004e+07   29544.193063   \n",
      "std           13791.089316             0.964771  2.356603e+07   30971.959047   \n",
      "min               2.000000             0.000000  1.600000e+01       5.391708   \n",
      "25%             558.000000             1.233708  8.400001e+07    7017.835831   \n",
      "50%            2014.000000             1.582058  8.400003e+07   19488.805486   \n",
      "75%            6001.000000             2.026253  8.400004e+07   41571.240414   \n",
      "max           89995.000000             6.405536  8.410000e+07  211664.862120   \n",
      "\n",
      "       Hospitalization_Rate  People_Tested  Mortality_Rate  \n",
      "count           5129.000000   1.181600e+04    12027.000000  \n",
      "mean              12.143891   1.044920e+06        3.305093  \n",
      "std                5.245396   1.949505e+06        2.482413  \n",
      "min                1.418440   3.000000e+00        0.000000  \n",
      "25%                8.359942   1.088725e+05        1.667964  \n",
      "50%               11.282093   3.914430e+05        2.818801  \n",
      "75%               15.268243   1.090776e+06        4.413457  \n",
      "max               38.501190   1.956515e+07       70.370370  \n",
      "0    0\n",
      "dtype: int64\n",
      "0    0\n",
      "dtype: int64\n"
     ]
    }
   ],
   "source": [
    "print(frame.describe())\n"
   ]
  },
  {
   "cell_type": "code",
   "execution_count": 164,
   "metadata": {},
   "outputs": [
    {
     "data": {
      "text/plain": [
       "[Province_State  Last_Update        \n",
       " Alabama         2020-04-12 23:18:15     3667\n",
       "                 2020-04-13 23:07:54     3870\n",
       "                 2020-04-14 23:33:31     4041\n",
       "                 2020-04-15 22:56:51     4307\n",
       "                 2020-04-16 23:30:51     4465\n",
       "                                        ...  \n",
       " Wyoming         2021-01-13 05:30:34    48072\n",
       "                 2021-01-14 05:30:28    48289\n",
       "                 2021-01-15 05:30:28    48701\n",
       "                 2021-01-16 05:30:49    48909\n",
       "                 2021-01-17 05:30:35    49068\n",
       " Name: Confirmed, Length: 16258, dtype: int64,\n",
       " Province_State  Last_Update        \n",
       " Alabama         2020-04-12 23:18:15     93\n",
       "                 2020-04-13 23:07:54     99\n",
       "                 2020-04-14 23:33:31    114\n",
       "                 2020-04-15 22:56:51    118\n",
       "                 2020-04-16 23:30:51    133\n",
       "                                       ... \n",
       " Wyoming         2021-01-13 05:30:34    522\n",
       "                 2021-01-14 05:30:28    522\n",
       "                 2021-01-15 05:30:28    522\n",
       "                 2021-01-16 05:30:49    522\n",
       "                 2021-01-17 05:30:35    522\n",
       " Name: Deaths, Length: 16258, dtype: int64]"
      ]
     },
     "execution_count": 164,
     "metadata": {},
     "output_type": "execute_result"
    }
   ],
   "source": [
    "newFrame = [frame[\"Confirmed\"], frame[\"Deaths\"]]\n",
    "newFrame"
   ]
  },
  {
   "cell_type": "code",
   "execution_count": 165,
   "metadata": {},
   "outputs": [
    {
     "data": {
      "image/png": "[encoded data removed]",
      "text/plain": [
       "<Figure size 432x288 with 2 Axes>"
      ]
     },
     "metadata": {
      "needs_background": "light"
     },
     "output_type": "display_data"
    }
   ],
   "source": [
    "newFrame = pd.DataFrame(frame, columns = ['Confirmed', 'Deaths'])\n",
    "fig, (ax1, ax2) = plt.subplots(1, 2)\n",
    "ax1.boxplot([newFrame['Confirmed']])\n",
    "ax2.boxplot([newFrame['Deaths']])\n",
    "plt.show()"
   ]
  },
  {
   "cell_type": "code",
   "execution_count": 166,
   "metadata": {},
   "outputs": [
    {
     "data": {
      "text/plain": [
       "array([[<AxesSubplot:title={'center':'Confirmed'}>,\n",
       "        <AxesSubplot:title={'center':'Deaths'}>]], dtype=object)"
      ]
     },
     "execution_count": 166,
     "metadata": {},
     "output_type": "execute_result"
    },
    {
     "data": {
      "image/png": "[encoded data removed]",
      "text/plain": [
       "<Figure size 432x288 with 2 Axes>"
      ]
     },
     "metadata": {
      "needs_background": "light"
     },
     "output_type": "display_data"
    }
   ],
   "source": [
    "newFrame.hist()"
   ]
  },
  {
   "cell_type": "code",
   "execution_count": 167,
   "metadata": {},
   "outputs": [
    {
     "data": {
      "text/plain": [
       "Text(0.5, 0, 'Deaths')"
      ]
     },
     "execution_count": 167,
     "metadata": {},
     "output_type": "execute_result"
    },
    {
     "data": {
      "image/png": "[encoded data removed]",
      "text/plain": [
       "<Figure size 576x576 with 1 Axes>"
      ]
     },
     "metadata": {
      "needs_background": "light"
     },
     "output_type": "display_data"
    }
   ],
   "source": [
    "confirmedC = newFrame['Confirmed']\n",
    "fig, a1 = plt.subplots(1, 1, figsize=[8, 8])\n",
    "a1.scatter(newFrame['Confirmed'], newFrame['Deaths'])\n",
    "plt.ylabel('Confirmed')\n",
    "plt.xlabel('Deaths')"
   ]
  },
  {
   "cell_type": "code",
   "execution_count": 168,
   "metadata": {},
   "outputs": [
    {
     "data": {
      "image/png": "[encoded data removed]",
      "text/plain": [
       "<Figure size 432x288 with 1 Axes>"
      ]
     },
     "metadata": {
      "needs_background": "light"
     },
     "output_type": "display_data"
    }
   ],
   "source": [
    "import matplotlib.pyplot as plt\n",
    "import numpy as np\n",
    "import pandas as pd\n",
    "import sklearn.linear_model\n",
    "\n",
    "X = np.c_[newFrame['Confirmed']]\n",
    "y = np.c_[newFrame['Deaths']]\n",
    "\n",
    "newFrame.plot(kind='scatter', x=\"Confirmed\", y='Deaths')\n",
    "plt.show()\n"
   ]
  },
  {
   "cell_type": "code",
   "execution_count": 169,
   "metadata": {},
   "outputs": [
    {
     "data": {
      "text/plain": [
       "(16258, 1)"
      ]
     },
     "execution_count": 169,
     "metadata": {},
     "output_type": "execute_result"
    }
   ],
   "source": [
    "X.shape\n",
    "y.shape"
   ]
  },
  {
   "cell_type": "code",
   "execution_count": 170,
   "metadata": {},
   "outputs": [
    {
     "data": {
      "text/plain": [
       "LinearRegression()"
      ]
     },
     "execution_count": 170,
     "metadata": {},
     "output_type": "execute_result"
    }
   ],
   "source": [
    "from sklearn.linear_model import LinearRegression\n",
    "\n",
    "# Create a simple linear regression model\n",
    "model = LinearRegression()\n",
    "\n",
    "# Train the model (we use all data for training --> Later we will divide the data into training data and testing data)\n",
    "model.fit(X,y)\n"
   ]
  },
  {
   "cell_type": "code",
   "execution_count": 171,
   "metadata": {},
   "outputs": [
    {
     "data": {
      "image/png": "[encoded data removed]",
      "text/plain": [
       "<Figure size 432x288 with 1 Axes>"
      ]
     },
     "metadata": {
      "needs_background": "light"
     },
     "output_type": "display_data"
    }
   ],
   "source": [
    "plt.scatter(X, y, c='red', label='observed')\n",
    "plt.legend(loc='best')\n",
    "\n",
    "plt.xlabel('Confirmed')\n",
    "plt.ylabel('Deaths')\n",
    "plt.title('Regression')\n",
    "\n",
    "# plot the regression function\n",
    "plt.plot(X,model.predict(X), c='green', label='fitted', linewidth=2)\n",
    "\n",
    "plt.show()"
   ]
  },
  {
   "cell_type": "code",
   "execution_count": 172,
   "metadata": {},
   "outputs": [
    {
     "data": {
      "text/plain": [
       "(16258, 1)"
      ]
     },
     "execution_count": 172,
     "metadata": {},
     "output_type": "execute_result"
    }
   ],
   "source": [
    "X.shape"
   ]
  },
  {
   "cell_type": "code",
   "execution_count": 173,
   "metadata": {},
   "outputs": [
    {
     "data": {
      "text/plain": [
       "(16258, 1)"
      ]
     },
     "execution_count": 173,
     "metadata": {},
     "output_type": "execute_result"
    }
   ],
   "source": [
    "y.shape"
   ]
  },
  {
   "cell_type": "code",
   "execution_count": 174,
   "metadata": {},
   "outputs": [
    {
     "name": "stderr",
     "output_type": "stream",
     "text": [
      "C:\\Users\\pedro\\anaconda3\\lib\\site-packages\\sklearn\\linear_model\\_logistic.py:762: ConvergenceWarning: lbfgs failed to converge (status=1):\n",
      "STOP: TOTAL NO. of ITERATIONS REACHED LIMIT.\n",
      "\n",
      "Increase the number of iterations (max_iter) or scale the data as shown in:\n",
      "    https://scikit-learn.org/stable/modules/preprocessing.html\n",
      "Please also refer to the documentation for alternative solver options:\n",
      "    https://scikit-learn.org/stable/modules/linear_model.html#logistic-regression\n",
      "  n_iter_i = _check_optimize_result(\n"
     ]
    },
    {
     "data": {
      "text/plain": [
       "LogisticRegression(max_iter=300)"
      ]
     },
     "execution_count": 174,
     "metadata": {},
     "output_type": "execute_result"
    }
   ],
   "source": [
    "from sklearn.linear_model import LogisticRegression\n",
    "from sklearn import metrics\n",
    "y = y.ravel()\n",
    "X_train, X_test, y_train, y_test = train_test_split(X, y, test_size=0.3, random_state=0)\n",
    "logreg = LogisticRegression(solver='lbfgs', max_iter=300)\n",
    "logreg.fit(X_train, y_train)"
   ]
  },
  {
   "cell_type": "code",
   "execution_count": 175,
   "metadata": {},
   "outputs": [
    {
     "name": "stdout",
     "output_type": "stream",
     "text": [
      "Accuracy of logistic regression classifier on test set: 0.02\n"
     ]
    }
   ],
   "source": [
    "y_pred = logreg.predict(X_test)\n",
    "print('Accuracy of logistic regression classifier on test set: {:.2f}'.format(logreg.score(X_test, y_test)))"
   ]
  },
  {
   "cell_type": "markdown",
   "metadata": {},
   "source": [
    "### Part 2: Write a summary of what you find from the data"
   ]
  },
  {
   "cell_type": "markdown",
   "metadata": {},
   "source": [
    "### Submit your summary to Canvas"
   ]
  }
 ],
 "metadata": {
  "kernelspec": {
   "display_name": "Python 3",
   "language": "python",
   "name": "python3"
  },
  "language_info": {
   "codemirror_mode": {
    "name": "ipython",
    "version": 3
   },
   "file_extension": ".py",
   "mimetype": "text/x-python",
   "name": "python",
   "nbconvert_exporter": "python",
   "pygments_lexer": "ipython3",
   "version": "3.8.5"
  }
 },
 "nbformat": 4,
 "nbformat_minor": 1
}
